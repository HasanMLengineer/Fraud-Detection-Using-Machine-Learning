{
  "nbformat": 4,
  "nbformat_minor": 0,
  "metadata": {
    "colab": {
      "provenance": []
    },
    "kernelspec": {
      "name": "python3",
      "display_name": "Python 3"
    },
    "language_info": {
      "name": "python"
    }
  },
  "cells": [
    {
      "cell_type": "code",
      "execution_count": 29,
      "metadata": {
        "id": "__YLU7R72VRf"
      },
      "outputs": [],
      "source": [
        "from google.colab import files"
      ]
    },
    {
      "cell_type": "code",
      "source": [
        "import pandas as pd"
      ],
      "metadata": {
        "id": "SfAJV8PI2hTn"
      },
      "execution_count": 30,
      "outputs": []
    },
    {
      "cell_type": "code",
      "source": [
        "from google.colab import drive\n",
        "drive.mount('/content/drive')"
      ],
      "metadata": {
        "id": "hLwW1zeKn-7q",
        "colab": {
          "base_uri": "https://localhost:8080/"
        },
        "outputId": "30064da8-9ccd-4962-ed8f-aaf6e15a14da"
      },
      "execution_count": 31,
      "outputs": [
        {
          "output_type": "stream",
          "name": "stdout",
          "text": [
            "Drive already mounted at /content/drive; to attempt to forcibly remount, call drive.mount(\"/content/drive\", force_remount=True).\n"
          ]
        }
      ]
    },
    {
      "cell_type": "code",
      "source": [
        "df = pd.read_excel (\"/content/drive/MyDrive/MLAssignment/Insurance_Updated.xlsx\")"
      ],
      "metadata": {
        "id": "Bl9JmhYg2mfQ"
      },
      "execution_count": 32,
      "outputs": []
    },
    {
      "cell_type": "markdown",
      "source": [
        "**Summarize Data**"
      ],
      "metadata": {
        "id": "2HVEacjun6M-"
      }
    },
    {
      "cell_type": "code",
      "source": [
        "df.info()"
      ],
      "metadata": {
        "id": "Oy5zwVq13CRZ",
        "colab": {
          "base_uri": "https://localhost:8080/"
        },
        "outputId": "c948b4c6-1a0b-4fd6-8b3f-f7ce398f42e1"
      },
      "execution_count": 33,
      "outputs": [
        {
          "output_type": "stream",
          "name": "stdout",
          "text": [
            "<class 'pandas.core.frame.DataFrame'>\n",
            "RangeIndex: 1000 entries, 0 to 999\n",
            "Data columns (total 40 columns):\n",
            " #   Column                       Non-Null Count  Dtype  \n",
            "---  ------                       --------------  -----  \n",
            " 0   months_as_customer           1000 non-null   int64  \n",
            " 1   age                          1000 non-null   int64  \n",
            " 2   policy_number                1000 non-null   int64  \n",
            " 3   policy_bind_days             1000 non-null   int64  \n",
            " 4   policy_state                 1000 non-null   object \n",
            " 5   policy_csl                   1000 non-null   object \n",
            " 6   policy_deductable            1000 non-null   int64  \n",
            " 7   policy_annual_premium        1000 non-null   float64\n",
            " 8   umbrella_limit               1000 non-null   int64  \n",
            " 9   insured_zip                  1000 non-null   int64  \n",
            " 10  insured_sex                  1000 non-null   object \n",
            " 11  insured_education_level      1000 non-null   object \n",
            " 12  insured_occupation           1000 non-null   object \n",
            " 13  insured_hobbies              1000 non-null   object \n",
            " 14  insured_relationship         1000 non-null   object \n",
            " 15  capital-gains                1000 non-null   int64  \n",
            " 16  capital-loss                 1000 non-null   int64  \n",
            " 17  incident_days                1000 non-null   int64  \n",
            " 18  incident_type                1000 non-null   object \n",
            " 19  collision_type               1000 non-null   object \n",
            " 20  incident_severity            1000 non-null   object \n",
            " 21  authorities_contacted        909 non-null    object \n",
            " 22  incident_state               1000 non-null   object \n",
            " 23  incident_city                1000 non-null   object \n",
            " 24  incident_location            1000 non-null   object \n",
            " 25  incident_hour_of_the_day     1000 non-null   int64  \n",
            " 26  number_of_vehicles_involved  1000 non-null   int64  \n",
            " 27  property_damage              1000 non-null   object \n",
            " 28  bodily_injuries              1000 non-null   int64  \n",
            " 29  witnesses                    1000 non-null   int64  \n",
            " 30  police_report_available      1000 non-null   object \n",
            " 31  total_claim_amount           1000 non-null   int64  \n",
            " 32  injury_claim                 1000 non-null   int64  \n",
            " 33  property_claim               1000 non-null   int64  \n",
            " 34  vehicle_claim                1000 non-null   int64  \n",
            " 35  auto_make                    1000 non-null   object \n",
            " 36  auto_model                   1000 non-null   object \n",
            " 37  auto_year                    1000 non-null   int64  \n",
            " 38  fraud_reported               1000 non-null   object \n",
            " 39  _c39                         0 non-null      float64\n",
            "dtypes: float64(2), int64(19), object(19)\n",
            "memory usage: 312.6+ KB\n"
          ]
        }
      ]
    },
    {
      "cell_type": "code",
      "source": [
        "# List of features to drop\n",
        "features_to_drop = [\n",
        "    'policy_state',\n",
        "    'policy_csl',\n",
        "    'insured_sex',\n",
        "    'insured_education_level',\n",
        "    'insured_occupation',\n",
        "    'insured_hobbies',\n",
        "    'insured_relationship',\n",
        "    'incident_type',\n",
        "    'collision_type',\n",
        "    'incident_severity',\n",
        "    'authorities_contacted',\n",
        "    'incident_state',\n",
        "    'incident_city',\n",
        "    'incident_location',\n",
        "    'property_damage',\n",
        "    'police_report_available',\n",
        "    'auto_make',\n",
        "    'auto_model',\n",
        "    '_c39'\n",
        "]\n",
        "\n",
        "# Drop the specified features from the dataframe\n",
        "df.drop(columns=features_to_drop, inplace=True)\n",
        "\n",
        "# Now df contains the dataset with the specified features dropped"
      ],
      "metadata": {
        "id": "caeDlWEX8jHH"
      },
      "execution_count": 34,
      "outputs": []
    },
    {
      "cell_type": "code",
      "source": [
        "df.info()"
      ],
      "metadata": {
        "id": "E6huXicPASYX",
        "colab": {
          "base_uri": "https://localhost:8080/"
        },
        "outputId": "ebcda102-be52-48d1-87f1-f1464548d12b"
      },
      "execution_count": 35,
      "outputs": [
        {
          "output_type": "stream",
          "name": "stdout",
          "text": [
            "<class 'pandas.core.frame.DataFrame'>\n",
            "RangeIndex: 1000 entries, 0 to 999\n",
            "Data columns (total 21 columns):\n",
            " #   Column                       Non-Null Count  Dtype  \n",
            "---  ------                       --------------  -----  \n",
            " 0   months_as_customer           1000 non-null   int64  \n",
            " 1   age                          1000 non-null   int64  \n",
            " 2   policy_number                1000 non-null   int64  \n",
            " 3   policy_bind_days             1000 non-null   int64  \n",
            " 4   policy_deductable            1000 non-null   int64  \n",
            " 5   policy_annual_premium        1000 non-null   float64\n",
            " 6   umbrella_limit               1000 non-null   int64  \n",
            " 7   insured_zip                  1000 non-null   int64  \n",
            " 8   capital-gains                1000 non-null   int64  \n",
            " 9   capital-loss                 1000 non-null   int64  \n",
            " 10  incident_days                1000 non-null   int64  \n",
            " 11  incident_hour_of_the_day     1000 non-null   int64  \n",
            " 12  number_of_vehicles_involved  1000 non-null   int64  \n",
            " 13  bodily_injuries              1000 non-null   int64  \n",
            " 14  witnesses                    1000 non-null   int64  \n",
            " 15  total_claim_amount           1000 non-null   int64  \n",
            " 16  injury_claim                 1000 non-null   int64  \n",
            " 17  property_claim               1000 non-null   int64  \n",
            " 18  vehicle_claim                1000 non-null   int64  \n",
            " 19  auto_year                    1000 non-null   int64  \n",
            " 20  fraud_reported               1000 non-null   object \n",
            "dtypes: float64(1), int64(19), object(1)\n",
            "memory usage: 164.2+ KB\n"
          ]
        }
      ]
    },
    {
      "cell_type": "code",
      "source": [
        "# Encoding fraud_reported(dependent variable column)\n",
        "from sklearn import preprocessing\n",
        "le = preprocessing.LabelEncoder()\n",
        "le.fit(df.fraud_reported)\n",
        "df['fraud_reported'] = le.transform(df.fraud_reported)"
      ],
      "metadata": {
        "id": "BW1xoZEEA34D"
      },
      "execution_count": 36,
      "outputs": []
    },
    {
      "cell_type": "code",
      "source": [
        "# df.info()"
      ],
      "metadata": {
        "id": "G7aYPNN-0L2V"
      },
      "execution_count": 37,
      "outputs": []
    },
    {
      "cell_type": "code",
      "source": [
        "# List of features to drop based as they have less feature importance\n",
        "features_to_drop = ['umbrella_limit', 'number_of_vehicles_involved', 'policy_deductable']\n",
        "\n",
        "# Drop specified features from the DataFrame\n",
        "df.drop(columns=features_to_drop, inplace=True)"
      ],
      "metadata": {
        "id": "G0TCbVFRVnAr"
      },
      "execution_count": 38,
      "outputs": []
    },
    {
      "cell_type": "code",
      "source": [
        "# df.info()"
      ],
      "metadata": {
        "id": "xSIR4sfp3SBo"
      },
      "execution_count": 39,
      "outputs": []
    },
    {
      "cell_type": "code",
      "source": [
        "#df = df[(z_scores <= threshold).all(axis=1)]\n",
        "#remove outliers"
      ],
      "metadata": {
        "id": "R7x5hfqZicjd"
      },
      "execution_count": 40,
      "outputs": []
    },
    {
      "cell_type": "code",
      "source": [
        "#df after removing outliers\n",
        "# df.info()"
      ],
      "metadata": {
        "id": "XKGqYQ4XFgRc"
      },
      "execution_count": 41,
      "outputs": []
    },
    {
      "cell_type": "markdown",
      "source": [
        "**SVM Prac**"
      ],
      "metadata": {
        "id": "ZER4WYlqImMt"
      }
    },
    {
      "cell_type": "code",
      "source": [
        "from sklearn.utils import resample\n",
        "\n",
        "# Separate majority and minority classes\n",
        "df_majority = df[df.fraud_reported == 0]\n",
        "df_minority = df[df.fraud_reported == 1]\n",
        "\n",
        "# Upsample minority class\n",
        "df_minority_upsampled = resample(df_minority,\n",
        "                                 replace=True,     # sample with replacement\n",
        "                                 n_samples=len(df_majority),    # to match majority class\n",
        "                                 random_state=1234) # for reproducible results\n",
        "\n",
        "# Combine majority class with upsampled minority class\n",
        "df_upsampled = pd.concat([df_majority, df_minority_upsampled])\n",
        "\n",
        "# Display new class counts\n",
        "df_upsampled.fraud_reported.value_counts()\n",
        "df = df_upsampled\n"
      ],
      "metadata": {
        "id": "CFL6MQrgI42q"
      },
      "execution_count": 42,
      "outputs": []
    },
    {
      "cell_type": "code",
      "source": [
        "# import pandas as pd\n",
        "from sklearn.model_selection import GridSearchCV, train_test_split\n",
        "\n",
        "from sklearn import svm\n",
        "#https://scikit-learn.org/stable/modules/generated/sklearn.svm.SVC.html\n",
        "\n",
        "from sklearn.metrics import classification_report, confusion_matrix\n",
        "import seaborn as sns\n",
        "\n",
        "from sklearn.preprocessing import RobustScaler\n",
        "#https://scikit-learn.org/stable/modules/generated/sklearn.preprocessing.RobustScaler.html"
      ],
      "metadata": {
        "id": "ox0U4p1DogMB"
      },
      "execution_count": 43,
      "outputs": []
    },
    {
      "cell_type": "code",
      "source": [
        "# from google.colab import drive\n",
        "# drive.mount('/content/drive')"
      ],
      "metadata": {
        "id": "HPzZrP5rpcQp"
      },
      "execution_count": 44,
      "outputs": []
    },
    {
      "cell_type": "code",
      "source": [
        "# df = pd.read_excel(\"/content/drive/MyDrive/MLAssignment/Insurance_Updated.xlsx\")"
      ],
      "metadata": {
        "id": "dsj6414jphyQ"
      },
      "execution_count": 45,
      "outputs": []
    },
    {
      "cell_type": "markdown",
      "source": [
        "**Get the data from Google Drive**"
      ],
      "metadata": {
        "id": "6IP9l0NZogYV"
      }
    },
    {
      "cell_type": "code",
      "source": [
        "# print(df.info(),'\\n')\n",
        "# print(df.head(),'\\n')\n",
        "# print(df.describe(),'\\n')"
      ],
      "metadata": {
        "id": "-C4iRDYLogga"
      },
      "execution_count": 46,
      "outputs": []
    },
    {
      "cell_type": "markdown",
      "source": [
        "**Split the data into training and testing sets**"
      ],
      "metadata": {
        "id": "gllPGzvrogo3"
      }
    },
    {
      "cell_type": "code",
      "source": [
        " X_train, X_test, y_train, y_test = train_test_split(df.drop('fraud_reported', axis=1), df['fraud_reported'], test_size=0.2, random_state=50)"
      ],
      "metadata": {
        "id": "rB_o8lAOogwm"
      },
      "execution_count": 47,
      "outputs": []
    },
    {
      "cell_type": "code",
      "source": [
        "X_train"
      ],
      "metadata": {
        "id": "AvO3jRNUqHZM",
        "colab": {
          "base_uri": "https://localhost:8080/",
          "height": 461
        },
        "outputId": "82c24d92-e127-48b4-a7ee-4c2767a04f86"
      },
      "execution_count": 48,
      "outputs": [
        {
          "output_type": "execute_result",
          "data": {
            "text/plain": [
              "     months_as_customer  age  policy_number  policy_bind_days  \\\n",
              "163                 112   30         346940              7879   \n",
              "638                  34   34         409074             11709   \n",
              "281                 186   33         779075              5155   \n",
              "722                 269   41         334749             10116   \n",
              "721                 130   34         153298              5496   \n",
              "..                  ...  ...            ...               ...   \n",
              "99                  239   42         246882              8968   \n",
              "184                 296   46         922167             11368   \n",
              "552                 360   51         550294              8170   \n",
              "157                 428   59         299796              8959   \n",
              "214                 142   33         604614             10644   \n",
              "\n",
              "     policy_annual_premium  insured_zip  capital-gains  capital-loss  \\\n",
              "163                1166.54       479852          47700        -59300   \n",
              "638                1295.87       438529              0             0   \n",
              "281                1348.32       469429          37600        -37600   \n",
              "722                1422.21       620507              0        -46400   \n",
              "721                 990.11       442666              0        -41200   \n",
              "..                     ...          ...            ...           ...   \n",
              "99                  969.50       464839              0             0   \n",
              "184                1141.35       476456              0             0   \n",
              "552                1526.61       471866              0        -32900   \n",
              "157                1344.36       473329              0             0   \n",
              "214                1362.64       450332              0             0   \n",
              "\n",
              "     incident_days  incident_hour_of_the_day  bodily_injuries  witnesses  \\\n",
              "163           3366                         3                2          0   \n",
              "638           3374                         4                1          0   \n",
              "281           3373                         3                2          1   \n",
              "722           3371                        21                2          1   \n",
              "721           3377                         8                1          3   \n",
              "..             ...                       ...              ...        ...   \n",
              "99            3361                        10                0          0   \n",
              "184           3381                        18                0          2   \n",
              "552           3357                         5                2          2   \n",
              "157           3350                         8                2          3   \n",
              "214           3366                        11                1          3   \n",
              "\n",
              "     total_claim_amount  injury_claim  property_claim  vehicle_claim  \\\n",
              "163              107900         10790           21580          75530   \n",
              "638               50800          5080            5080          40640   \n",
              "281                4730           860             860           3010   \n",
              "722               85900         17180           17180          51540   \n",
              "721                5830          1060            1060           3710   \n",
              "..                  ...           ...             ...            ...   \n",
              "99                 5600           700             700           4200   \n",
              "184               54900          5490            5490          43920   \n",
              "552                4620           840             840           2940   \n",
              "157                6500          1300             650           4550   \n",
              "214               81360          6780           13560          61020   \n",
              "\n",
              "     auto_year  \n",
              "163       1997  \n",
              "638       1997  \n",
              "281       2013  \n",
              "722       2005  \n",
              "721       2015  \n",
              "..         ...  \n",
              "99        2007  \n",
              "184       2013  \n",
              "552       2009  \n",
              "157       2013  \n",
              "214       2009  \n",
              "\n",
              "[1204 rows x 17 columns]"
            ],
            "text/html": [
              "\n",
              "  <div id=\"df-dec3baa3-ffb0-4ccd-aecd-65a0871d163e\" class=\"colab-df-container\">\n",
              "    <div>\n",
              "<style scoped>\n",
              "    .dataframe tbody tr th:only-of-type {\n",
              "        vertical-align: middle;\n",
              "    }\n",
              "\n",
              "    .dataframe tbody tr th {\n",
              "        vertical-align: top;\n",
              "    }\n",
              "\n",
              "    .dataframe thead th {\n",
              "        text-align: right;\n",
              "    }\n",
              "</style>\n",
              "<table border=\"1\" class=\"dataframe\">\n",
              "  <thead>\n",
              "    <tr style=\"text-align: right;\">\n",
              "      <th></th>\n",
              "      <th>months_as_customer</th>\n",
              "      <th>age</th>\n",
              "      <th>policy_number</th>\n",
              "      <th>policy_bind_days</th>\n",
              "      <th>policy_annual_premium</th>\n",
              "      <th>insured_zip</th>\n",
              "      <th>capital-gains</th>\n",
              "      <th>capital-loss</th>\n",
              "      <th>incident_days</th>\n",
              "      <th>incident_hour_of_the_day</th>\n",
              "      <th>bodily_injuries</th>\n",
              "      <th>witnesses</th>\n",
              "      <th>total_claim_amount</th>\n",
              "      <th>injury_claim</th>\n",
              "      <th>property_claim</th>\n",
              "      <th>vehicle_claim</th>\n",
              "      <th>auto_year</th>\n",
              "    </tr>\n",
              "  </thead>\n",
              "  <tbody>\n",
              "    <tr>\n",
              "      <th>163</th>\n",
              "      <td>112</td>\n",
              "      <td>30</td>\n",
              "      <td>346940</td>\n",
              "      <td>7879</td>\n",
              "      <td>1166.54</td>\n",
              "      <td>479852</td>\n",
              "      <td>47700</td>\n",
              "      <td>-59300</td>\n",
              "      <td>3366</td>\n",
              "      <td>3</td>\n",
              "      <td>2</td>\n",
              "      <td>0</td>\n",
              "      <td>107900</td>\n",
              "      <td>10790</td>\n",
              "      <td>21580</td>\n",
              "      <td>75530</td>\n",
              "      <td>1997</td>\n",
              "    </tr>\n",
              "    <tr>\n",
              "      <th>638</th>\n",
              "      <td>34</td>\n",
              "      <td>34</td>\n",
              "      <td>409074</td>\n",
              "      <td>11709</td>\n",
              "      <td>1295.87</td>\n",
              "      <td>438529</td>\n",
              "      <td>0</td>\n",
              "      <td>0</td>\n",
              "      <td>3374</td>\n",
              "      <td>4</td>\n",
              "      <td>1</td>\n",
              "      <td>0</td>\n",
              "      <td>50800</td>\n",
              "      <td>5080</td>\n",
              "      <td>5080</td>\n",
              "      <td>40640</td>\n",
              "      <td>1997</td>\n",
              "    </tr>\n",
              "    <tr>\n",
              "      <th>281</th>\n",
              "      <td>186</td>\n",
              "      <td>33</td>\n",
              "      <td>779075</td>\n",
              "      <td>5155</td>\n",
              "      <td>1348.32</td>\n",
              "      <td>469429</td>\n",
              "      <td>37600</td>\n",
              "      <td>-37600</td>\n",
              "      <td>3373</td>\n",
              "      <td>3</td>\n",
              "      <td>2</td>\n",
              "      <td>1</td>\n",
              "      <td>4730</td>\n",
              "      <td>860</td>\n",
              "      <td>860</td>\n",
              "      <td>3010</td>\n",
              "      <td>2013</td>\n",
              "    </tr>\n",
              "    <tr>\n",
              "      <th>722</th>\n",
              "      <td>269</td>\n",
              "      <td>41</td>\n",
              "      <td>334749</td>\n",
              "      <td>10116</td>\n",
              "      <td>1422.21</td>\n",
              "      <td>620507</td>\n",
              "      <td>0</td>\n",
              "      <td>-46400</td>\n",
              "      <td>3371</td>\n",
              "      <td>21</td>\n",
              "      <td>2</td>\n",
              "      <td>1</td>\n",
              "      <td>85900</td>\n",
              "      <td>17180</td>\n",
              "      <td>17180</td>\n",
              "      <td>51540</td>\n",
              "      <td>2005</td>\n",
              "    </tr>\n",
              "    <tr>\n",
              "      <th>721</th>\n",
              "      <td>130</td>\n",
              "      <td>34</td>\n",
              "      <td>153298</td>\n",
              "      <td>5496</td>\n",
              "      <td>990.11</td>\n",
              "      <td>442666</td>\n",
              "      <td>0</td>\n",
              "      <td>-41200</td>\n",
              "      <td>3377</td>\n",
              "      <td>8</td>\n",
              "      <td>1</td>\n",
              "      <td>3</td>\n",
              "      <td>5830</td>\n",
              "      <td>1060</td>\n",
              "      <td>1060</td>\n",
              "      <td>3710</td>\n",
              "      <td>2015</td>\n",
              "    </tr>\n",
              "    <tr>\n",
              "      <th>...</th>\n",
              "      <td>...</td>\n",
              "      <td>...</td>\n",
              "      <td>...</td>\n",
              "      <td>...</td>\n",
              "      <td>...</td>\n",
              "      <td>...</td>\n",
              "      <td>...</td>\n",
              "      <td>...</td>\n",
              "      <td>...</td>\n",
              "      <td>...</td>\n",
              "      <td>...</td>\n",
              "      <td>...</td>\n",
              "      <td>...</td>\n",
              "      <td>...</td>\n",
              "      <td>...</td>\n",
              "      <td>...</td>\n",
              "      <td>...</td>\n",
              "    </tr>\n",
              "    <tr>\n",
              "      <th>99</th>\n",
              "      <td>239</td>\n",
              "      <td>42</td>\n",
              "      <td>246882</td>\n",
              "      <td>8968</td>\n",
              "      <td>969.50</td>\n",
              "      <td>464839</td>\n",
              "      <td>0</td>\n",
              "      <td>0</td>\n",
              "      <td>3361</td>\n",
              "      <td>10</td>\n",
              "      <td>0</td>\n",
              "      <td>0</td>\n",
              "      <td>5600</td>\n",
              "      <td>700</td>\n",
              "      <td>700</td>\n",
              "      <td>4200</td>\n",
              "      <td>2007</td>\n",
              "    </tr>\n",
              "    <tr>\n",
              "      <th>184</th>\n",
              "      <td>296</td>\n",
              "      <td>46</td>\n",
              "      <td>922167</td>\n",
              "      <td>11368</td>\n",
              "      <td>1141.35</td>\n",
              "      <td>476456</td>\n",
              "      <td>0</td>\n",
              "      <td>0</td>\n",
              "      <td>3381</td>\n",
              "      <td>18</td>\n",
              "      <td>0</td>\n",
              "      <td>2</td>\n",
              "      <td>54900</td>\n",
              "      <td>5490</td>\n",
              "      <td>5490</td>\n",
              "      <td>43920</td>\n",
              "      <td>2013</td>\n",
              "    </tr>\n",
              "    <tr>\n",
              "      <th>552</th>\n",
              "      <td>360</td>\n",
              "      <td>51</td>\n",
              "      <td>550294</td>\n",
              "      <td>8170</td>\n",
              "      <td>1526.61</td>\n",
              "      <td>471866</td>\n",
              "      <td>0</td>\n",
              "      <td>-32900</td>\n",
              "      <td>3357</td>\n",
              "      <td>5</td>\n",
              "      <td>2</td>\n",
              "      <td>2</td>\n",
              "      <td>4620</td>\n",
              "      <td>840</td>\n",
              "      <td>840</td>\n",
              "      <td>2940</td>\n",
              "      <td>2009</td>\n",
              "    </tr>\n",
              "    <tr>\n",
              "      <th>157</th>\n",
              "      <td>428</td>\n",
              "      <td>59</td>\n",
              "      <td>299796</td>\n",
              "      <td>8959</td>\n",
              "      <td>1344.36</td>\n",
              "      <td>473329</td>\n",
              "      <td>0</td>\n",
              "      <td>0</td>\n",
              "      <td>3350</td>\n",
              "      <td>8</td>\n",
              "      <td>2</td>\n",
              "      <td>3</td>\n",
              "      <td>6500</td>\n",
              "      <td>1300</td>\n",
              "      <td>650</td>\n",
              "      <td>4550</td>\n",
              "      <td>2013</td>\n",
              "    </tr>\n",
              "    <tr>\n",
              "      <th>214</th>\n",
              "      <td>142</td>\n",
              "      <td>33</td>\n",
              "      <td>604614</td>\n",
              "      <td>10644</td>\n",
              "      <td>1362.64</td>\n",
              "      <td>450332</td>\n",
              "      <td>0</td>\n",
              "      <td>0</td>\n",
              "      <td>3366</td>\n",
              "      <td>11</td>\n",
              "      <td>1</td>\n",
              "      <td>3</td>\n",
              "      <td>81360</td>\n",
              "      <td>6780</td>\n",
              "      <td>13560</td>\n",
              "      <td>61020</td>\n",
              "      <td>2009</td>\n",
              "    </tr>\n",
              "  </tbody>\n",
              "</table>\n",
              "<p>1204 rows × 17 columns</p>\n",
              "</div>\n",
              "    <div class=\"colab-df-buttons\">\n",
              "\n",
              "  <div class=\"colab-df-container\">\n",
              "    <button class=\"colab-df-convert\" onclick=\"convertToInteractive('df-dec3baa3-ffb0-4ccd-aecd-65a0871d163e')\"\n",
              "            title=\"Convert this dataframe to an interactive table.\"\n",
              "            style=\"display:none;\">\n",
              "\n",
              "  <svg xmlns=\"http://www.w3.org/2000/svg\" height=\"24px\" viewBox=\"0 -960 960 960\">\n",
              "    <path d=\"M120-120v-720h720v720H120Zm60-500h600v-160H180v160Zm220 220h160v-160H400v160Zm0 220h160v-160H400v160ZM180-400h160v-160H180v160Zm440 0h160v-160H620v160ZM180-180h160v-160H180v160Zm440 0h160v-160H620v160Z\"/>\n",
              "  </svg>\n",
              "    </button>\n",
              "\n",
              "  <style>\n",
              "    .colab-df-container {\n",
              "      display:flex;\n",
              "      gap: 12px;\n",
              "    }\n",
              "\n",
              "    .colab-df-convert {\n",
              "      background-color: #E8F0FE;\n",
              "      border: none;\n",
              "      border-radius: 50%;\n",
              "      cursor: pointer;\n",
              "      display: none;\n",
              "      fill: #1967D2;\n",
              "      height: 32px;\n",
              "      padding: 0 0 0 0;\n",
              "      width: 32px;\n",
              "    }\n",
              "\n",
              "    .colab-df-convert:hover {\n",
              "      background-color: #E2EBFA;\n",
              "      box-shadow: 0px 1px 2px rgba(60, 64, 67, 0.3), 0px 1px 3px 1px rgba(60, 64, 67, 0.15);\n",
              "      fill: #174EA6;\n",
              "    }\n",
              "\n",
              "    .colab-df-buttons div {\n",
              "      margin-bottom: 4px;\n",
              "    }\n",
              "\n",
              "    [theme=dark] .colab-df-convert {\n",
              "      background-color: #3B4455;\n",
              "      fill: #D2E3FC;\n",
              "    }\n",
              "\n",
              "    [theme=dark] .colab-df-convert:hover {\n",
              "      background-color: #434B5C;\n",
              "      box-shadow: 0px 1px 3px 1px rgba(0, 0, 0, 0.15);\n",
              "      filter: drop-shadow(0px 1px 2px rgba(0, 0, 0, 0.3));\n",
              "      fill: #FFFFFF;\n",
              "    }\n",
              "  </style>\n",
              "\n",
              "    <script>\n",
              "      const buttonEl =\n",
              "        document.querySelector('#df-dec3baa3-ffb0-4ccd-aecd-65a0871d163e button.colab-df-convert');\n",
              "      buttonEl.style.display =\n",
              "        google.colab.kernel.accessAllowed ? 'block' : 'none';\n",
              "\n",
              "      async function convertToInteractive(key) {\n",
              "        const element = document.querySelector('#df-dec3baa3-ffb0-4ccd-aecd-65a0871d163e');\n",
              "        const dataTable =\n",
              "          await google.colab.kernel.invokeFunction('convertToInteractive',\n",
              "                                                    [key], {});\n",
              "        if (!dataTable) return;\n",
              "\n",
              "        const docLinkHtml = 'Like what you see? Visit the ' +\n",
              "          '<a target=\"_blank\" href=https://colab.research.google.com/notebooks/data_table.ipynb>data table notebook</a>'\n",
              "          + ' to learn more about interactive tables.';\n",
              "        element.innerHTML = '';\n",
              "        dataTable['output_type'] = 'display_data';\n",
              "        await google.colab.output.renderOutput(dataTable, element);\n",
              "        const docLink = document.createElement('div');\n",
              "        docLink.innerHTML = docLinkHtml;\n",
              "        element.appendChild(docLink);\n",
              "      }\n",
              "    </script>\n",
              "  </div>\n",
              "\n",
              "\n",
              "<div id=\"df-3b1b5e61-7b86-4c1c-9550-bbf8066a1cef\">\n",
              "  <button class=\"colab-df-quickchart\" onclick=\"quickchart('df-3b1b5e61-7b86-4c1c-9550-bbf8066a1cef')\"\n",
              "            title=\"Suggest charts\"\n",
              "            style=\"display:none;\">\n",
              "\n",
              "<svg xmlns=\"http://www.w3.org/2000/svg\" height=\"24px\"viewBox=\"0 0 24 24\"\n",
              "     width=\"24px\">\n",
              "    <g>\n",
              "        <path d=\"M19 3H5c-1.1 0-2 .9-2 2v14c0 1.1.9 2 2 2h14c1.1 0 2-.9 2-2V5c0-1.1-.9-2-2-2zM9 17H7v-7h2v7zm4 0h-2V7h2v10zm4 0h-2v-4h2v4z\"/>\n",
              "    </g>\n",
              "</svg>\n",
              "  </button>\n",
              "\n",
              "<style>\n",
              "  .colab-df-quickchart {\n",
              "      --bg-color: #E8F0FE;\n",
              "      --fill-color: #1967D2;\n",
              "      --hover-bg-color: #E2EBFA;\n",
              "      --hover-fill-color: #174EA6;\n",
              "      --disabled-fill-color: #AAA;\n",
              "      --disabled-bg-color: #DDD;\n",
              "  }\n",
              "\n",
              "  [theme=dark] .colab-df-quickchart {\n",
              "      --bg-color: #3B4455;\n",
              "      --fill-color: #D2E3FC;\n",
              "      --hover-bg-color: #434B5C;\n",
              "      --hover-fill-color: #FFFFFF;\n",
              "      --disabled-bg-color: #3B4455;\n",
              "      --disabled-fill-color: #666;\n",
              "  }\n",
              "\n",
              "  .colab-df-quickchart {\n",
              "    background-color: var(--bg-color);\n",
              "    border: none;\n",
              "    border-radius: 50%;\n",
              "    cursor: pointer;\n",
              "    display: none;\n",
              "    fill: var(--fill-color);\n",
              "    height: 32px;\n",
              "    padding: 0;\n",
              "    width: 32px;\n",
              "  }\n",
              "\n",
              "  .colab-df-quickchart:hover {\n",
              "    background-color: var(--hover-bg-color);\n",
              "    box-shadow: 0 1px 2px rgba(60, 64, 67, 0.3), 0 1px 3px 1px rgba(60, 64, 67, 0.15);\n",
              "    fill: var(--button-hover-fill-color);\n",
              "  }\n",
              "\n",
              "  .colab-df-quickchart-complete:disabled,\n",
              "  .colab-df-quickchart-complete:disabled:hover {\n",
              "    background-color: var(--disabled-bg-color);\n",
              "    fill: var(--disabled-fill-color);\n",
              "    box-shadow: none;\n",
              "  }\n",
              "\n",
              "  .colab-df-spinner {\n",
              "    border: 2px solid var(--fill-color);\n",
              "    border-color: transparent;\n",
              "    border-bottom-color: var(--fill-color);\n",
              "    animation:\n",
              "      spin 1s steps(1) infinite;\n",
              "  }\n",
              "\n",
              "  @keyframes spin {\n",
              "    0% {\n",
              "      border-color: transparent;\n",
              "      border-bottom-color: var(--fill-color);\n",
              "      border-left-color: var(--fill-color);\n",
              "    }\n",
              "    20% {\n",
              "      border-color: transparent;\n",
              "      border-left-color: var(--fill-color);\n",
              "      border-top-color: var(--fill-color);\n",
              "    }\n",
              "    30% {\n",
              "      border-color: transparent;\n",
              "      border-left-color: var(--fill-color);\n",
              "      border-top-color: var(--fill-color);\n",
              "      border-right-color: var(--fill-color);\n",
              "    }\n",
              "    40% {\n",
              "      border-color: transparent;\n",
              "      border-right-color: var(--fill-color);\n",
              "      border-top-color: var(--fill-color);\n",
              "    }\n",
              "    60% {\n",
              "      border-color: transparent;\n",
              "      border-right-color: var(--fill-color);\n",
              "    }\n",
              "    80% {\n",
              "      border-color: transparent;\n",
              "      border-right-color: var(--fill-color);\n",
              "      border-bottom-color: var(--fill-color);\n",
              "    }\n",
              "    90% {\n",
              "      border-color: transparent;\n",
              "      border-bottom-color: var(--fill-color);\n",
              "    }\n",
              "  }\n",
              "</style>\n",
              "\n",
              "  <script>\n",
              "    async function quickchart(key) {\n",
              "      const quickchartButtonEl =\n",
              "        document.querySelector('#' + key + ' button');\n",
              "      quickchartButtonEl.disabled = true;  // To prevent multiple clicks.\n",
              "      quickchartButtonEl.classList.add('colab-df-spinner');\n",
              "      try {\n",
              "        const charts = await google.colab.kernel.invokeFunction(\n",
              "            'suggestCharts', [key], {});\n",
              "      } catch (error) {\n",
              "        console.error('Error during call to suggestCharts:', error);\n",
              "      }\n",
              "      quickchartButtonEl.classList.remove('colab-df-spinner');\n",
              "      quickchartButtonEl.classList.add('colab-df-quickchart-complete');\n",
              "    }\n",
              "    (() => {\n",
              "      let quickchartButtonEl =\n",
              "        document.querySelector('#df-3b1b5e61-7b86-4c1c-9550-bbf8066a1cef button');\n",
              "      quickchartButtonEl.style.display =\n",
              "        google.colab.kernel.accessAllowed ? 'block' : 'none';\n",
              "    })();\n",
              "  </script>\n",
              "</div>\n",
              "    </div>\n",
              "  </div>\n"
            ],
            "application/vnd.google.colaboratory.intrinsic+json": {
              "type": "dataframe",
              "variable_name": "X_train",
              "summary": "{\n  \"name\": \"X_train\",\n  \"rows\": 1204,\n  \"fields\": [\n    {\n      \"column\": \"months_as_customer\",\n      \"properties\": {\n        \"dtype\": \"number\",\n        \"std\": 116,\n        \"min\": 0,\n        \"max\": 479,\n        \"num_unique_values\": 362,\n        \"samples\": [\n          43,\n          332,\n          160\n        ],\n        \"semantic_type\": \"\",\n        \"description\": \"\"\n      }\n    },\n    {\n      \"column\": \"age\",\n      \"properties\": {\n        \"dtype\": \"number\",\n        \"std\": 9,\n        \"min\": 19,\n        \"max\": 64,\n        \"num_unique_values\": 46,\n        \"samples\": [\n          54,\n          51,\n          45\n        ],\n        \"semantic_type\": \"\",\n        \"description\": \"\"\n      }\n    },\n    {\n      \"column\": \"policy_number\",\n      \"properties\": {\n        \"dtype\": \"number\",\n        \"std\": 255643,\n        \"min\": 101421,\n        \"max\": 999435,\n        \"num_unique_values\": 826,\n        \"samples\": [\n          287436,\n          584859,\n          155724\n        ],\n        \"semantic_type\": \"\",\n        \"description\": \"\"\n      }\n    },\n    {\n      \"column\": \"policy_bind_days\",\n      \"properties\": {\n        \"dtype\": \"number\",\n        \"std\": 2679,\n        \"min\": 3370,\n        \"max\": 12510,\n        \"num_unique_values\": 795,\n        \"samples\": [\n          12248,\n          12382,\n          10228\n        ],\n        \"semantic_type\": \"\",\n        \"description\": \"\"\n      }\n    },\n    {\n      \"column\": \"policy_annual_premium\",\n      \"properties\": {\n        \"dtype\": \"number\",\n        \"std\": 247.54125517015612,\n        \"min\": 484.67,\n        \"max\": 1969.63,\n        \"num_unique_values\": 819,\n        \"samples\": [\n          855.14,\n          1393.34,\n          1302.34\n        ],\n        \"semantic_type\": \"\",\n        \"description\": \"\"\n      }\n    },\n    {\n      \"column\": \"insured_zip\",\n      \"properties\": {\n        \"dtype\": \"number\",\n        \"std\": 72009,\n        \"min\": 430104,\n        \"max\": 620962,\n        \"num_unique_values\": 823,\n        \"samples\": [\n          472253,\n          472248,\n          606352\n        ],\n        \"semantic_type\": \"\",\n        \"description\": \"\"\n      }\n    },\n    {\n      \"column\": \"capital-gains\",\n      \"properties\": {\n        \"dtype\": \"number\",\n        \"std\": 28199,\n        \"min\": 0,\n        \"max\": 94800,\n        \"num_unique_values\": 304,\n        \"samples\": [\n          41200,\n          37700,\n          36100\n        ],\n        \"semantic_type\": \"\",\n        \"description\": \"\"\n      }\n    },\n    {\n      \"column\": \"capital-loss\",\n      \"properties\": {\n        \"dtype\": \"number\",\n        \"std\": 28266,\n        \"min\": -111100,\n        \"max\": 0,\n        \"num_unique_values\": 317,\n        \"samples\": [\n          -68800,\n          -88300,\n          -44200\n        ],\n        \"semantic_type\": \"\",\n        \"description\": \"\"\n      }\n    },\n    {\n      \"column\": \"incident_days\",\n      \"properties\": {\n        \"dtype\": \"number\",\n        \"std\": 17,\n        \"min\": 3327,\n        \"max\": 3386,\n        \"num_unique_values\": 60,\n        \"samples\": [\n          3366,\n          3329,\n          3381\n        ],\n        \"semantic_type\": \"\",\n        \"description\": \"\"\n      }\n    },\n    {\n      \"column\": \"incident_hour_of_the_day\",\n      \"properties\": {\n        \"dtype\": \"number\",\n        \"std\": 6,\n        \"min\": 0,\n        \"max\": 23,\n        \"num_unique_values\": 24,\n        \"samples\": [\n          10,\n          14,\n          3\n        ],\n        \"semantic_type\": \"\",\n        \"description\": \"\"\n      }\n    },\n    {\n      \"column\": \"bodily_injuries\",\n      \"properties\": {\n        \"dtype\": \"number\",\n        \"std\": 0,\n        \"min\": 0,\n        \"max\": 2,\n        \"num_unique_values\": 3,\n        \"samples\": [\n          2,\n          1,\n          0\n        ],\n        \"semantic_type\": \"\",\n        \"description\": \"\"\n      }\n    },\n    {\n      \"column\": \"witnesses\",\n      \"properties\": {\n        \"dtype\": \"number\",\n        \"std\": 1,\n        \"min\": 0,\n        \"max\": 3,\n        \"num_unique_values\": 4,\n        \"samples\": [\n          1,\n          2,\n          0\n        ],\n        \"semantic_type\": \"\",\n        \"description\": \"\"\n      }\n    },\n    {\n      \"column\": \"total_claim_amount\",\n      \"properties\": {\n        \"dtype\": \"number\",\n        \"std\": 24528,\n        \"min\": 100,\n        \"max\": 112320,\n        \"num_unique_values\": 658,\n        \"samples\": [\n          45120,\n          44880,\n          74700\n        ],\n        \"semantic_type\": \"\",\n        \"description\": \"\"\n      }\n    },\n    {\n      \"column\": \"injury_claim\",\n      \"properties\": {\n        \"dtype\": \"number\",\n        \"std\": 4795,\n        \"min\": 0,\n        \"max\": 21450,\n        \"num_unique_values\": 569,\n        \"samples\": [\n          17400,\n          780,\n          10980\n        ],\n        \"semantic_type\": \"\",\n        \"description\": \"\"\n      }\n    },\n    {\n      \"column\": \"property_claim\",\n      \"properties\": {\n        \"dtype\": \"number\",\n        \"std\": 4645,\n        \"min\": 0,\n        \"max\": 23670,\n        \"num_unique_values\": 554,\n        \"samples\": [\n          3590,\n          5980,\n          6920\n        ],\n        \"semantic_type\": \"\",\n        \"description\": \"\"\n      }\n    },\n    {\n      \"column\": \"vehicle_claim\",\n      \"properties\": {\n        \"dtype\": \"number\",\n        \"std\": 17613,\n        \"min\": 70,\n        \"max\": 77760,\n        \"num_unique_values\": 634,\n        \"samples\": [\n          45220,\n          43080,\n          32760\n        ],\n        \"semantic_type\": \"\",\n        \"description\": \"\"\n      }\n    },\n    {\n      \"column\": \"auto_year\",\n      \"properties\": {\n        \"dtype\": \"number\",\n        \"std\": 6,\n        \"min\": 1995,\n        \"max\": 2015,\n        \"num_unique_values\": 21,\n        \"samples\": [\n          1997,\n          2011,\n          2006\n        ],\n        \"semantic_type\": \"\",\n        \"description\": \"\"\n      }\n    }\n  ]\n}"
            }
          },
          "metadata": {},
          "execution_count": 48
        }
      ]
    },
    {
      "cell_type": "markdown",
      "source": [
        "**Robust scaling**"
      ],
      "metadata": {
        "id": "7rOkEDI3MmI6"
      }
    },
    {
      "cell_type": "code",
      "source": [
        "#scale features so it is good as preprocessing step\n",
        "scaler = RobustScaler()\n",
        "X_train_scaled = scaler.fit_transform(X_train)\n",
        "X_test_scaled = scaler.transform(X_test)"
      ],
      "metadata": {
        "id": "J73TmrfTMmUJ"
      },
      "execution_count": 49,
      "outputs": []
    },
    {
      "cell_type": "code",
      "source": [
        "X_test_scaled"
      ],
      "metadata": {
        "id": "u1M1nQHCqO_F",
        "colab": {
          "base_uri": "https://localhost:8080/"
        },
        "outputId": "91b740e2-d0b6-46be-adfa-e421de1455a7"
      },
      "execution_count": 50,
      "outputs": [
        {
          "output_type": "execute_result",
          "data": {
            "text/plain": [
              "array([[ 1.50369276,  1.69230769,  0.94797083, ..., -0.1109215 ,\n",
              "         0.04085106, -0.2       ],\n",
              "       [-0.85967504, -1.23076923, -0.01434713, ...,  0.38395904,\n",
              "        -0.36652482,  0.2       ],\n",
              "       [ 1.14918759,  1.46153846, -0.02663509, ...,  1.42832765,\n",
              "         1.8893617 , -0.3       ],\n",
              "       ...,\n",
              "       [ 0.36927622,  0.38461538,  0.12111988, ..., -0.61945392,\n",
              "        -0.95659574,  0.7       ],\n",
              "       [-0.3042836 , -0.46153846,  0.23967508, ...,  0.10238908,\n",
              "         1.38950355, -0.3       ],\n",
              "       [ 1.23781388,  1.23076923, -0.98411118, ...,  1.61262799,\n",
              "         1.73163121,  0.6       ]])"
            ]
          },
          "metadata": {},
          "execution_count": 50
        }
      ]
    },
    {
      "cell_type": "markdown",
      "source": [
        "**Create an SVM classifier**"
      ],
      "metadata": {
        "id": "gy4OSa18og42"
      }
    },
    {
      "cell_type": "code",
      "source": [
        "classifier = svm.SVC()"
      ],
      "metadata": {
        "id": "3wtijZfMohAa"
      },
      "execution_count": 51,
      "outputs": []
    },
    {
      "cell_type": "markdown",
      "source": [
        "**Define the hyperparameter grid to search**"
      ],
      "metadata": {
        "id": "6X_zpFI05wxl"
      }
    },
    {
      "cell_type": "code",
      "source": [
        "\n",
        "#hyperparameters = {'kernel': ['linear']}\n",
        "\n",
        "hyperparameters = {'kernel': ['linear', 'poly', 'rbf', 'sigmoid'],\n",
        "                   'C': [0.01, 0.1, 1, 10, 100],\n",
        "                   'gamma': [0.01, 0.1, 1, 10, 100]}\n"
      ],
      "metadata": {
        "id": "PwfVNSmxrKmw"
      },
      "execution_count": 52,
      "outputs": []
    },
    {
      "cell_type": "markdown",
      "source": [
        "**Search the hyperparameter grid using GridSearchCV()**"
      ],
      "metadata": {
        "id": "Go_98QNa54ig"
      }
    },
    {
      "cell_type": "code",
      "source": [
        "from sklearn.model_selection import GridSearchCV\n",
        "grid_search = GridSearchCV(classifier, hyperparameters, cv=5)\n",
        "grid_search.fit(X_train_scaled, y_train)"
      ],
      "metadata": {
        "id": "9GBfza3954rH",
        "colab": {
          "base_uri": "https://localhost:8080/",
          "height": 117
        },
        "outputId": "99a76e41-d903-4197-8fc8-a0a2cb445f01"
      },
      "execution_count": 53,
      "outputs": [
        {
          "output_type": "execute_result",
          "data": {
            "text/plain": [
              "GridSearchCV(cv=5, estimator=SVC(),\n",
              "             param_grid={'C': [0.01, 0.1, 1, 10, 100],\n",
              "                         'gamma': [0.01, 0.1, 1, 10, 100],\n",
              "                         'kernel': ['linear', 'poly', 'rbf', 'sigmoid']})"
            ],
            "text/html": [
              "<style>#sk-container-id-2 {color: black;background-color: white;}#sk-container-id-2 pre{padding: 0;}#sk-container-id-2 div.sk-toggleable {background-color: white;}#sk-container-id-2 label.sk-toggleable__label {cursor: pointer;display: block;width: 100%;margin-bottom: 0;padding: 0.3em;box-sizing: border-box;text-align: center;}#sk-container-id-2 label.sk-toggleable__label-arrow:before {content: \"▸\";float: left;margin-right: 0.25em;color: #696969;}#sk-container-id-2 label.sk-toggleable__label-arrow:hover:before {color: black;}#sk-container-id-2 div.sk-estimator:hover label.sk-toggleable__label-arrow:before {color: black;}#sk-container-id-2 div.sk-toggleable__content {max-height: 0;max-width: 0;overflow: hidden;text-align: left;background-color: #f0f8ff;}#sk-container-id-2 div.sk-toggleable__content pre {margin: 0.2em;color: black;border-radius: 0.25em;background-color: #f0f8ff;}#sk-container-id-2 input.sk-toggleable__control:checked~div.sk-toggleable__content {max-height: 200px;max-width: 100%;overflow: auto;}#sk-container-id-2 input.sk-toggleable__control:checked~label.sk-toggleable__label-arrow:before {content: \"▾\";}#sk-container-id-2 div.sk-estimator input.sk-toggleable__control:checked~label.sk-toggleable__label {background-color: #d4ebff;}#sk-container-id-2 div.sk-label input.sk-toggleable__control:checked~label.sk-toggleable__label {background-color: #d4ebff;}#sk-container-id-2 input.sk-hidden--visually {border: 0;clip: rect(1px 1px 1px 1px);clip: rect(1px, 1px, 1px, 1px);height: 1px;margin: -1px;overflow: hidden;padding: 0;position: absolute;width: 1px;}#sk-container-id-2 div.sk-estimator {font-family: monospace;background-color: #f0f8ff;border: 1px dotted black;border-radius: 0.25em;box-sizing: border-box;margin-bottom: 0.5em;}#sk-container-id-2 div.sk-estimator:hover {background-color: #d4ebff;}#sk-container-id-2 div.sk-parallel-item::after {content: \"\";width: 100%;border-bottom: 1px solid gray;flex-grow: 1;}#sk-container-id-2 div.sk-label:hover label.sk-toggleable__label {background-color: #d4ebff;}#sk-container-id-2 div.sk-serial::before {content: \"\";position: absolute;border-left: 1px solid gray;box-sizing: border-box;top: 0;bottom: 0;left: 50%;z-index: 0;}#sk-container-id-2 div.sk-serial {display: flex;flex-direction: column;align-items: center;background-color: white;padding-right: 0.2em;padding-left: 0.2em;position: relative;}#sk-container-id-2 div.sk-item {position: relative;z-index: 1;}#sk-container-id-2 div.sk-parallel {display: flex;align-items: stretch;justify-content: center;background-color: white;position: relative;}#sk-container-id-2 div.sk-item::before, #sk-container-id-2 div.sk-parallel-item::before {content: \"\";position: absolute;border-left: 1px solid gray;box-sizing: border-box;top: 0;bottom: 0;left: 50%;z-index: -1;}#sk-container-id-2 div.sk-parallel-item {display: flex;flex-direction: column;z-index: 1;position: relative;background-color: white;}#sk-container-id-2 div.sk-parallel-item:first-child::after {align-self: flex-end;width: 50%;}#sk-container-id-2 div.sk-parallel-item:last-child::after {align-self: flex-start;width: 50%;}#sk-container-id-2 div.sk-parallel-item:only-child::after {width: 0;}#sk-container-id-2 div.sk-dashed-wrapped {border: 1px dashed gray;margin: 0 0.4em 0.5em 0.4em;box-sizing: border-box;padding-bottom: 0.4em;background-color: white;}#sk-container-id-2 div.sk-label label {font-family: monospace;font-weight: bold;display: inline-block;line-height: 1.2em;}#sk-container-id-2 div.sk-label-container {text-align: center;}#sk-container-id-2 div.sk-container {/* jupyter's `normalize.less` sets `[hidden] { display: none; }` but bootstrap.min.css set `[hidden] { display: none !important; }` so we also need the `!important` here to be able to override the default hidden behavior on the sphinx rendered scikit-learn.org. See: https://github.com/scikit-learn/scikit-learn/issues/21755 */display: inline-block !important;position: relative;}#sk-container-id-2 div.sk-text-repr-fallback {display: none;}</style><div id=\"sk-container-id-2\" class=\"sk-top-container\"><div class=\"sk-text-repr-fallback\"><pre>GridSearchCV(cv=5, estimator=SVC(),\n",
              "             param_grid={&#x27;C&#x27;: [0.01, 0.1, 1, 10, 100],\n",
              "                         &#x27;gamma&#x27;: [0.01, 0.1, 1, 10, 100],\n",
              "                         &#x27;kernel&#x27;: [&#x27;linear&#x27;, &#x27;poly&#x27;, &#x27;rbf&#x27;, &#x27;sigmoid&#x27;]})</pre><b>In a Jupyter environment, please rerun this cell to show the HTML representation or trust the notebook. <br />On GitHub, the HTML representation is unable to render, please try loading this page with nbviewer.org.</b></div><div class=\"sk-container\" hidden><div class=\"sk-item sk-dashed-wrapped\"><div class=\"sk-label-container\"><div class=\"sk-label sk-toggleable\"><input class=\"sk-toggleable__control sk-hidden--visually\" id=\"sk-estimator-id-4\" type=\"checkbox\" ><label for=\"sk-estimator-id-4\" class=\"sk-toggleable__label sk-toggleable__label-arrow\">GridSearchCV</label><div class=\"sk-toggleable__content\"><pre>GridSearchCV(cv=5, estimator=SVC(),\n",
              "             param_grid={&#x27;C&#x27;: [0.01, 0.1, 1, 10, 100],\n",
              "                         &#x27;gamma&#x27;: [0.01, 0.1, 1, 10, 100],\n",
              "                         &#x27;kernel&#x27;: [&#x27;linear&#x27;, &#x27;poly&#x27;, &#x27;rbf&#x27;, &#x27;sigmoid&#x27;]})</pre></div></div></div><div class=\"sk-parallel\"><div class=\"sk-parallel-item\"><div class=\"sk-item\"><div class=\"sk-label-container\"><div class=\"sk-label sk-toggleable\"><input class=\"sk-toggleable__control sk-hidden--visually\" id=\"sk-estimator-id-5\" type=\"checkbox\" ><label for=\"sk-estimator-id-5\" class=\"sk-toggleable__label sk-toggleable__label-arrow\">estimator: SVC</label><div class=\"sk-toggleable__content\"><pre>SVC()</pre></div></div></div><div class=\"sk-serial\"><div class=\"sk-item\"><div class=\"sk-estimator sk-toggleable\"><input class=\"sk-toggleable__control sk-hidden--visually\" id=\"sk-estimator-id-6\" type=\"checkbox\" ><label for=\"sk-estimator-id-6\" class=\"sk-toggleable__label sk-toggleable__label-arrow\">SVC</label><div class=\"sk-toggleable__content\"><pre>SVC()</pre></div></div></div></div></div></div></div></div></div></div>"
            ]
          },
          "metadata": {},
          "execution_count": 53
        }
      ]
    },
    {
      "cell_type": "markdown",
      "source": [
        "**Use the best model provided by the grid search to make predictions on the test data**"
      ],
      "metadata": {
        "id": "gTDioL0H56js"
      }
    },
    {
      "cell_type": "code",
      "source": [
        "best_classifier = grid_search.best_estimator_\n",
        "print(best_classifier,'\\n')\n",
        "y_pred = best_classifier.predict(X_test_scaled)"
      ],
      "metadata": {
        "id": "PgDTGx5L56r9",
        "colab": {
          "base_uri": "https://localhost:8080/"
        },
        "outputId": "cb55c3f9-8fe6-42bb-de4a-849c97a92f7c"
      },
      "execution_count": 54,
      "outputs": [
        {
          "output_type": "stream",
          "name": "stdout",
          "text": [
            "SVC(C=1, gamma=10) \n",
            "\n"
          ]
        }
      ]
    },
    {
      "cell_type": "code",
      "source": [
        "best_params = grid_search.best_params_\n",
        "print(\"Best Parameters:\", best_params)"
      ],
      "metadata": {
        "colab": {
          "base_uri": "https://localhost:8080/"
        },
        "id": "jk-O4qa5JONH",
        "outputId": "5fca74b4-bdf9-4085-94f9-b2f25bf7e303"
      },
      "execution_count": 55,
      "outputs": [
        {
          "output_type": "stream",
          "name": "stdout",
          "text": [
            "Best Parameters: {'C': 1, 'gamma': 10, 'kernel': 'rbf'}\n"
          ]
        }
      ]
    },
    {
      "cell_type": "markdown",
      "source": [
        "**Print the confusion matrix and performance metrics (classification report)**"
      ],
      "metadata": {
        "id": "i-DKBNvE59rN"
      }
    },
    {
      "cell_type": "code",
      "source": [
        "\n",
        "print(confusion_matrix(y_test, y_pred))\n",
        "print(classification_report(y_test, y_pred))"
      ],
      "metadata": {
        "id": "4FabGEyX59y8",
        "colab": {
          "base_uri": "https://localhost:8080/"
        },
        "outputId": "dc9bfb72-b82a-42b5-a8f2-1e77eea97ffc"
      },
      "execution_count": 56,
      "outputs": [
        {
          "output_type": "stream",
          "name": "stdout",
          "text": [
            "[[148   0]\n",
            " [ 18 136]]\n",
            "              precision    recall  f1-score   support\n",
            "\n",
            "           0       0.89      1.00      0.94       148\n",
            "           1       1.00      0.88      0.94       154\n",
            "\n",
            "    accuracy                           0.94       302\n",
            "   macro avg       0.95      0.94      0.94       302\n",
            "weighted avg       0.95      0.94      0.94       302\n",
            "\n"
          ]
        }
      ]
    },
    {
      "cell_type": "markdown",
      "source": [
        "**Display the confusion matrix (heatmap)**"
      ],
      "metadata": {
        "id": "F1mlxxtLO7h_"
      }
    },
    {
      "cell_type": "code",
      "source": [
        "sns.heatmap(confusion_matrix(y_test, y_pred), annot=True, cmap=\"YlGnBu\")"
      ],
      "metadata": {
        "id": "OEuF7sdROvxZ",
        "colab": {
          "base_uri": "https://localhost:8080/",
          "height": 448
        },
        "outputId": "9d50c0f8-157e-4c21-c3ab-62b93ba16c2c"
      },
      "execution_count": 57,
      "outputs": [
        {
          "output_type": "execute_result",
          "data": {
            "text/plain": [
              "<Axes: >"
            ]
          },
          "metadata": {},
          "execution_count": 57
        },
        {
          "output_type": "display_data",
          "data": {
            "text/plain": [
              "<Figure size 640x480 with 2 Axes>"
            ],
            "image/png": "[encoded data removed]"
          },
          "metadata": {}
        }
      ]
    }
  ]
}